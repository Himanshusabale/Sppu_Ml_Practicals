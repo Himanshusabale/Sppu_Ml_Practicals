{
 "cells": [
  {
   "cell_type": "code",
   "execution_count": null,
   "id": "e3556f17-09a9-4aa0-87ad-41b113c38ca9",
   "metadata": {},
   "outputs": [],
   "source": [
    "# Import necessary libraries\n",
    "import pandas as pd\n",
    "from sklearn.model_selection import train_test_split\n",
    "from sklearn.svm import SVC\n",
    "from sklearn.metrics import accuracy_score\n",
    "\n",
    "# Load the dataset\n",
    "data = pd.read_csv(\"test.csv\")\n",
    "\n",
    "# Preview the first few rows\n",
    "# print(data.head())\n",
    "\n",
    "# Drop any irrelevant columns if needed (e.g., \"ID\" and other unique identifiers if present)\n",
    "# data = data.drop([\"ID\"], axis=1)\n",
    "\n",
    "# Assume 'wifi' is the target column (replace 'wifi' with the actual target if different)\n",
    "X = data.drop('wifi', axis=1)\n",
    "y = data['wifi']\n",
    "\n",
    "# Split dataset into training and testing sets\n",
    "X_train, X_test, y_train, y_test = train_test_split(X, y, test_size=0.3, random_state=42)\n",
    "\n",
    "# Initialize a dictionary to store accuracies for each kernel\n",
    "accuracies = {}\n",
    "\n",
    "# Train and evaluate SVM with RBF kernel\n",
    "svc_rbf = SVC(kernel='rbf')\n",
    "svc_rbf.fit(X_train, y_train)\n",
    "y_pred_rbf = svc_rbf.predict(X_test)\n",
    "accuracies['RBF Kernel'] = accuracy_score(y_test, y_pred_rbf)\n",
    "\n",
    "# Train and evaluate SVM with Linear kernel\n",
    "svc_linear = SVC(kernel='linear')\n",
    "svc_linear.fit(X_train, y_train)\n",
    "y_pred_linear = svc_linear.predict(X_test)\n",
    "accuracies['Linear Kernel'] = accuracy_score(y_test, y_pred_linear)\n",
    "\n",
    "# Train and evaluate SVM with Polynomial kernel\n",
    "svc_poly = SVC(kernel='poly')\n",
    "svc_poly.fit(X_train, y_train)\n",
    "y_pred_poly = svc_poly.predict(X_test)\n",
    "accuracies['Polynomial Kernel'] = accuracy_score(y_test, y_pred_poly)\n",
    "\n",
    "# Print the accuracies for each kernel\n",
    "for kernel, accuracy in accuracies.items():\n",
    "    print(f\"Accuracy with {kernel}: {accuracy}\")\n"
   ]
  },
  {
   "cell_type": "code",
   "execution_count": null,
   "id": "c480a245-4dbd-427d-a773-1ef58d9ba6a9",
   "metadata": {},
   "outputs": [],
   "source": []
  }
 ],
 "metadata": {
  "kernelspec": {
   "display_name": "Python 3 (ipykernel)",
   "language": "python",
   "name": "python3"
  },
  "language_info": {
   "codemirror_mode": {
    "name": "ipython",
    "version": 3
   },
   "file_extension": ".py",
   "mimetype": "text/x-python",
   "name": "python",
   "nbconvert_exporter": "python",
   "pygments_lexer": "ipython3",
   "version": "3.11.2"
  }
 },
 "nbformat": 4,
 "nbformat_minor": 5
}
