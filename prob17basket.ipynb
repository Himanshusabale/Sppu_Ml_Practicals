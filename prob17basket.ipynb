{
 "cells": [
  {
   "cell_type": "code",
   "execution_count": 1,
   "id": "fa0269b7",
   "metadata": {},
   "outputs": [
    {
     "ename": "TypeError",
     "evalue": "association_rules() missing 1 required positional argument: 'num_itemsets'",
     "output_type": "error",
     "traceback": [
      "\u001b[1;31m---------------------------------------------------------------------------\u001b[0m",
      "\u001b[1;31mTypeError\u001b[0m                                 Traceback (most recent call last)",
      "Cell \u001b[1;32mIn[1], line 22\u001b[0m\n\u001b[0;32m     19\u001b[0m frequent_itemsets \u001b[38;5;241m=\u001b[39m apriori(df_encoded, min_support\u001b[38;5;241m=\u001b[39m\u001b[38;5;241m0.05\u001b[39m, use_colnames\u001b[38;5;241m=\u001b[39m\u001b[38;5;28;01mTrue\u001b[39;00m)\n\u001b[0;32m     21\u001b[0m \u001b[38;5;66;03m# Step 6: Generate association rules\u001b[39;00m\n\u001b[1;32m---> 22\u001b[0m rules \u001b[38;5;241m=\u001b[39m \u001b[43massociation_rules\u001b[49m\u001b[43m(\u001b[49m\u001b[43mfrequent_itemsets\u001b[49m\u001b[43m,\u001b[49m\u001b[43m \u001b[49m\u001b[43mmetric\u001b[49m\u001b[38;5;241;43m=\u001b[39;49m\u001b[38;5;124;43m\"\u001b[39;49m\u001b[38;5;124;43mconfidence\u001b[39;49m\u001b[38;5;124;43m\"\u001b[39;49m\u001b[43m,\u001b[49m\u001b[43m \u001b[49m\u001b[43mmin_threshold\u001b[49m\u001b[38;5;241;43m=\u001b[39;49m\u001b[38;5;241;43m0.7\u001b[39;49m\u001b[43m)\u001b[49m\n\u001b[0;32m     24\u001b[0m \u001b[38;5;66;03m# Step 7: Visualize the generated rules\u001b[39;00m\n\u001b[0;32m     25\u001b[0m \u001b[38;5;28mprint\u001b[39m(\u001b[38;5;124m\"\u001b[39m\u001b[38;5;124mFrequent Itemsets:\u001b[39m\u001b[38;5;130;01m\\n\u001b[39;00m\u001b[38;5;124m\"\u001b[39m, frequent_itemsets)\n",
      "\u001b[1;31mTypeError\u001b[0m: association_rules() missing 1 required positional argument: 'num_itemsets'"
     ]
    }
   ],
   "source": [
    "# Step 1: Import necessary libraries\n",
    "import pandas as pd\n",
    "from mlxtend.frequent_patterns import apriori, association_rules\n",
    "from mlxtend.preprocessing import TransactionEncoder\n",
    "\n",
    "# Step 2: Load the dataset\n",
    "df = pd.read_csv(r\"C:\\Users\\ASUS\\Downloads\\Apriori\\Oder3.csv\")  # Replace with the actual path if necessary\n",
    "\n",
    "# Step 3: Data Pre-processing\n",
    "# Group by TransactionNo to create a list of items per transaction\n",
    "transactions = df.groupby('TransactionNo')['Items'].apply(list).tolist()\n",
    "\n",
    "# Step 4: Convert transactions into one-hot encoded format using TransactionEncoder\n",
    "te = TransactionEncoder()\n",
    "te_data = te.fit(transactions).transform(transactions)\n",
    "df_encoded = pd.DataFrame(te_data, columns=te.columns_)\n",
    "\n",
    "# Step 5: Apply the Apriori algorithm\n",
    "frequent_itemsets = apriori(df_encoded, min_support=0.05, use_colnames=True)\n",
    "\n",
    "# Step 6: Generate association rules\n",
    "rules = association_rules(frequent_itemsets, metric=\"confidence\", min_threshold=0.7)\n",
    "\n",
    "# Step 7: Visualize the generated rules\n",
    "print(\"Frequent Itemsets:\\n\", frequent_itemsets)\n",
    "print(\"\\nAssociation Rules:\\n\", rules)\n"
   ]
  },
  {
   "cell_type": "code",
   "execution_count": 3,
   "id": "a88e1b8b",
   "metadata": {},
   "outputs": [
    {
     "name": "stdout",
     "output_type": "stream",
     "text": [
      "C:\\Users\\ASUS\n"
     ]
    }
   ],
   "source": [
    "import os\n",
    "print(os.getcwd())\n"
   ]
  },
  {
   "cell_type": "code",
   "execution_count": null,
   "id": "0fbc9fd0",
   "metadata": {},
   "outputs": [],
   "source": []
  }
 ],
 "metadata": {
  "kernelspec": {
   "display_name": "Python 3 (ipykernel)",
   "language": "python",
   "name": "python3"
  },
  "language_info": {
   "codemirror_mode": {
    "name": "ipython",
    "version": 3
   },
   "file_extension": ".py",
   "mimetype": "text/x-python",
   "name": "python",
   "nbconvert_exporter": "python",
   "pygments_lexer": "ipython3",
   "version": "3.10.9"
  }
 },
 "nbformat": 4,
 "nbformat_minor": 5
}
