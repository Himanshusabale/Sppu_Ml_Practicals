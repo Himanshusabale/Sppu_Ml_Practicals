{
 "cells": [
  {
   "cell_type": "code",
   "execution_count": 1,
   "id": "71a48202",
   "metadata": {},
   "outputs": [
    {
     "name": "stdout",
     "output_type": "stream",
     "text": [
      "Cluster labels for the points: [0 0 0 0 1 0 1 1]\n",
      "Updated centroids:\n",
      "[[0.148      0.712     ]\n",
      " [0.24666667 0.2       ]]\n",
      "P6 belongs to Cluster 1\n",
      "Population of Cluster 2: 3\n",
      "Updated value of m1 (Cluster 1): [0.148 0.712]\n",
      "Updated value of m2 (Cluster 2): [0.24666667 0.2       ]\n"
     ]
    },
    {
     "name": "stderr",
     "output_type": "stream",
     "text": [
      "C:\\ProgramData\\anaconda3\\lib\\site-packages\\sklearn\\cluster\\_kmeans.py:1382: UserWarning: KMeans is known to have a memory leak on Windows with MKL, when there are less chunks than available threads. You can avoid it by setting the environment variable OMP_NUM_THREADS=1.\n",
      "  warnings.warn(\n"
     ]
    }
   ],
   "source": [
    "import numpy as np\n",
    "from sklearn.cluster import KMeans\n",
    "import pandas as pd\n",
    "\n",
    "# Define the dataset\n",
    "data = np.array([\n",
    "    [0.1, 0.6],  # P1\n",
    "    [0.15, 0.71],  # P2\n",
    "    [0.08, 0.9],  # P3\n",
    "    [0.16, 0.85],  # P4\n",
    "    [0.2, 0.3],  # P5\n",
    "    [0.25, 0.5],  # P6\n",
    "    [0.24, 0.1],  # P7\n",
    "    [0.3, 0.2]  # P8\n",
    "])\n",
    "\n",
    "# Initialize the KMeans with initial centroids (m1 and m2)\n",
    "initial_centroids = np.array([[0.1, 0.6], [0.3, 0.2]])  # m1=P1, m2=P8\n",
    "\n",
    "# Apply KMeans clustering\n",
    "kmeans = KMeans(n_clusters=2, init=initial_centroids, n_init=1, max_iter=10)\n",
    "\n",
    "# Fit the KMeans model\n",
    "kmeans.fit(data)\n",
    "\n",
    "# Get the cluster labels\n",
    "labels = kmeans.labels_\n",
    "\n",
    "# Get the updated centroids\n",
    "updated_centroids = kmeans.cluster_centers_\n",
    "\n",
    "# Display results\n",
    "print(f\"Cluster labels for the points: {labels}\")\n",
    "print(f\"Updated centroids:\\n{updated_centroids}\")\n",
    "\n",
    "# Answer the questions\n",
    "# Which cluster does P6 belong to?\n",
    "p6_index = 5  # P6 is the 6th point in the dataset (index 5)\n",
    "p6_cluster = labels[p6_index]\n",
    "print(f\"P6 belongs to Cluster {p6_cluster + 1}\")\n",
    "\n",
    "# What is the population of a cluster around m2 (initial centroid of Cluster 2)?\n",
    "cluster_2_population = np.sum(labels == 1)  # Cluster 2 has label 1\n",
    "print(f\"Population of Cluster 2: {cluster_2_population}\")\n",
    "\n",
    "# What are the updated values of m1 and m2?\n",
    "print(f\"Updated value of m1 (Cluster 1): {updated_centroids[0]}\")\n",
    "print(f\"Updated value of m2 (Cluster 2): {updated_centroids[1]}\")\n"
   ]
  },
  {
   "cell_type": "code",
   "execution_count": null,
   "id": "c508e132",
   "metadata": {},
   "outputs": [],
   "source": []
  }
 ],
 "metadata": {
  "kernelspec": {
   "display_name": "Python 3 (ipykernel)",
   "language": "python",
   "name": "python3"
  },
  "language_info": {
   "codemirror_mode": {
    "name": "ipython",
    "version": 3
   },
   "file_extension": ".py",
   "mimetype": "text/x-python",
   "name": "python",
   "nbconvert_exporter": "python",
   "pygments_lexer": "ipython3",
   "version": "3.10.9"
  }
 },
 "nbformat": 4,
 "nbformat_minor": 5
}
